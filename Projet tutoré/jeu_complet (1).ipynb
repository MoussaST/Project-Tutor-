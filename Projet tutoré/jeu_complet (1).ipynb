{
 "cells": [
  {
   "cell_type": "code",
   "execution_count": 2,
   "metadata": {},
   "outputs": [
    {
     "name": "stdout",
     "output_type": "stream",
     "text": [
      "{'n': 4, 'nb_cases_libres': 16, 'tiles': [0, 0, 0, 0, 0, 0, 0, 0, 0, 0, 0, 0, 0, 0, 0, 0]}\n"
     ]
    }
   ],
   "source": [
    "def init_play():\n",
    "    \"\"\"Retourne un plateau correspondant à une nouvelle partie.\"\"\"\n",
    "    dico={\n",
    "        \"n\" : 4,\n",
    "        \"nb_cases_libres\" : 16,\n",
    "        \"tiles\" : [0, 0, 0, 0, 0, 0, 0, 0, 0, 0, 0, 0, 0, 0, 0, 0]\n",
    "    }\n",
    "    return dico\n",
    "    \n",
    "p=init_play()\n",
    "print(p)\n"
   ]
  },
  {
   "cell_type": "code",
   "execution_count": 2,
   "metadata": {},
   "outputs": [
    {
     "name": "stdout",
     "output_type": "stream",
     "text": [
      "True\n",
      "False\n",
      "True\n",
      "False\n",
      "False\n"
     ]
    }
   ],
   "source": [
    "def check_indice(plateau, indice):\n",
    "    \"\"\"Retourne True si indice correpond à un indice valide de case pour le plateau(entre 0 et n-1)\"\"\"\n",
    "    if indice>=0 and indice<=plateau[\"n\"]-1:\n",
    "        return True\n",
    "    else:\n",
    "        return False\n",
    "\n",
    "p=init_play()\n",
    "print(check_indice(p, 0))\n",
    "print(check_indice(p, 10))\n",
    "print(check_indice(p, 3))\n",
    "print(check_indice(p, 4))\n",
    "print(check_indice(p, -1))\n",
    "à"
   ]
  },
  {
   "cell_type": "code",
   "execution_count": 3,
   "metadata": {},
   "outputs": [
    {
     "name": "stdout",
     "output_type": "stream",
     "text": [
      "True\n",
      "False\n",
      "False\n",
      "True\n"
     ]
    }
   ],
   "source": [
    "def check_room(plateau, lig, col):\n",
    "    \"\"\"Retourne True si (lig, col) est une case du plateau avec lig, col 2indices valides\"\"\"\n",
    "    if check_indice(p,lig)==True and check_indice(p,col)==True:\n",
    "        return True\n",
    "    else:\n",
    "        return False\n",
    "    \n",
    "p=init_play()\n",
    "print(check_room(p, 2, 1))\n",
    "print(check_room(p, 10, 2))\n",
    "print(check_room(p, -1, 3))\n",
    "print(check_room(p, 3, 3))"
   ]
  },
  {
   "cell_type": "code",
   "execution_count": 4,
   "metadata": {},
   "outputs": [
    {
     "name": "stdout",
     "output_type": "stream",
     "text": [
      "0\n",
      "0\n",
      "0\n",
      "0\n",
      "erreur la case n'est pas valide\n"
     ]
    }
   ],
   "source": [
    "def get_value(plateau, lig, col):\n",
    "    \"\"\"Retourne la valeur de la case (lig,col) et retourne une erreur si (lig,col) n'est pas valide\"\"\"\n",
    "    if check_room(plateau, lig, col)==False:\n",
    "        return \"erreur la case n'est pas valide\"\n",
    "    else:\n",
    "        case=lig*plateau[\"n\"]+col\n",
    "        val=plateau[\"tiles\"][case]\n",
    "        return val\n",
    "    \n",
    "p=init_play()\n",
    "print(get_value(p, 0, 0))\n",
    "print(get_value(p, 2, 3))\n",
    "print(get_value(p, 1, 3))\n",
    "print(get_value(p, 3, 0))\n",
    "print(get_value(p, 18, 3))"
   ]
  },
  {
   "cell_type": "code",
   "execution_count": 5,
   "metadata": {},
   "outputs": [
    {
     "name": "stdout",
     "output_type": "stream",
     "text": [
      "[1, 0, 0, 0, 0, 0, 0, 0, 0, 0, 0, 0, 0, 0, 0, 0]\n",
      "[1, 0, 0, 0, 0, 0, 0, 0, 0, 0, 0, 0, 0, 0, 0, 0]\n",
      "erreur la case n'est pas valide\n",
      "[1, 0, 0, 0, 0, 0, 0, 0, 0, 0, 0, 6, 0, 0, 0, 0]\n"
     ]
    }
   ],
   "source": [
    "def set_value(plateau, lig, col, val):\n",
    "    \"\"\"Affecte la valeur val à la case situé aux coord. (lig, col)\"\"\"\n",
    "    if check_room(plateau, lig, col)==False:\n",
    "        return \"erreur la case n'est pas valide\"\n",
    "    else:\n",
    "        case=lig*plateau[\"n\"]+col\n",
    "        plateau[\"tiles\"][case]=val\n",
    "        return p[\"tiles\"]\n",
    "        \n",
    "p=init_play()\n",
    "print(set_value(p, 0, 0, 1))\n",
    "print(set_value(p, 1, 2, 0))\n",
    "print(set_value(p, 18, 3, 1))\n",
    "print(set_value(p, 2, 3, 6))"
   ]
  },
  {
   "cell_type": "code",
   "execution_count": 6,
   "metadata": {},
   "outputs": [
    {
     "name": "stdout",
     "output_type": "stream",
     "text": [
      "True\n",
      "True\n",
      "erreur la case n'est pas valide\n"
     ]
    }
   ],
   "source": [
    "def is_room_empty(plateau, i, j):\n",
    "    \"\"\"Teste si une case est valide et retourne True si elle est libre ou sinon False\"\"\"\n",
    "    if check_room(plateau, i, j)==False:\n",
    "        return \"erreur la case n'est pas valide\"\n",
    "    elif plateau[\"tiles\"][i*plateau[\"n\"]+j]!=0:\n",
    "        return False\n",
    "    else:\n",
    "        return True\n",
    "    \n",
    "p=init_play()\n",
    "print(is_room_empty(p, 0, 1))\n",
    "print(is_room_empty(p, 3, 2))\n",
    "print(is_room_empty(p, 15, 2))    "
   ]
  },
  {
   "cell_type": "code",
   "execution_count": 7,
   "metadata": {},
   "outputs": [
    {
     "name": "stdout",
     "output_type": "stream",
     "text": [
      "{'n': 4, 'nb_cases_libres': 16, 'tiles': [0, 0, 0, 0, 0, 0, 0, 0, 0, 0, 0, 0, 0, 0, 0, 0]}\n",
      "16\n"
     ]
    }
   ],
   "source": [
    "def get_nb_empty_rooms(plateau):\n",
    "    \"\"\"Met à jour le nombre de cases libres du plateau actuel\"\"\"\n",
    "    case_libres=0\n",
    "    lig=0\n",
    "    while lig<plateau[\"n\"]:\n",
    "        col=0\n",
    "        while col<plateau[\"n\"]:\n",
    "            if get_value(plateau, lig, col)==0:\n",
    "                case_libres+=1\n",
    "            col+=1\n",
    "        lig+=1\n",
    "    plateau[\"nb_cases_libres\"]=case_libres\n",
    "    return plateau[\"nb_cases_libres\"]\n",
    "\n",
    "p=init_play()\n",
    "print(p)\n",
    "print(get_nb_empty_rooms(p))"
   ]
  },
  {
   "cell_type": "code",
   "execution_count": 8,
   "metadata": {},
   "outputs": [
    {
     "name": "stdout",
     "output_type": "stream",
     "text": [
      "False\n",
      "True\n"
     ]
    }
   ],
   "source": [
    "def is_game_over(plateau):\n",
    "    \"\"\"Retourne True si la partie est terminée, False sinon\"\"\"\n",
    "    newp = get_nb_empty_rooms(plateau)\n",
    "    if newp==0:\n",
    "        return True\n",
    "    else:\n",
    "        return False\n",
    "   \n",
    "    \n",
    "p1={\n",
    "        \"n\" : 4,\n",
    "        \"nb_cases_libres\" : 16,\n",
    "        \"tiles\" : [6, 2, 3, 2, 0, 2, 6, 2, 0, 2, 2, 0, 1, 0, 0, 0]\n",
    "    }\n",
    "print(is_game_over(p1))\n",
    "p2={\n",
    "        \"n\" : 4,\n",
    "        \"nb_cases_libres\" : 6,\n",
    "        \"tiles\" : [6, 2, 3, 2, 12, 2, 6, 2, 6, 2, 2, 12, 1, 6, 3, 1]\n",
    "    }\n",
    "print(is_game_over(p2))"
   ]
  },
  {
   "cell_type": "code",
   "execution_count": 9,
   "metadata": {},
   "outputs": [
    {
     "name": "stdout",
     "output_type": "stream",
     "text": [
      "68\n"
     ]
    }
   ],
   "source": [
    "def get_score(plateau):\n",
    "    \"\"\"Retourne le score et donc le nombre de point total du plateau\"\"\"\n",
    "    score=0\n",
    "    i=0\n",
    "    taille=plateau[\"n\"]*plateau[\"n\"]\n",
    "    while i<taille:\n",
    "        score+=plateau[\"tiles\"][i]\n",
    "        i+=1\n",
    "    return score\n",
    "\n",
    "p2={\n",
    "        \"n\" : 4,\n",
    "        \"nb_cases_libres\" : 6,\n",
    "        \"tiles\" : [6, 2, 3, 2, 12, 2, 6, 2, 6, 2, 2, 12, 1, 6, 3, 1]\n",
    "}\n",
    "print(get_score(p2))"
   ]
  },
  {
   "cell_type": "code",
   "execution_count": 10,
   "metadata": {},
   "outputs": [
    {
     "name": "stdout",
     "output_type": "stream",
     "text": [
      "[6, 2, 3, 2, 0, 2, 6, 2, 0, 2, 2, 0, 1, 0, 0, 0]\n",
      "\n",
      "6  2  3  2  \n",
      "0  2  6  2  \n",
      "0  2  2  0  \n",
      "1  0  0  0  \n"
     ]
    }
   ],
   "source": [
    "def simple_display(plateau):\n",
    "    \"\"\"Affichage du plateau simplifié\"\"\"\n",
    "    esp=\"  \"\n",
    "    i=0\n",
    "    y=0\n",
    "    taillef=plateau[\"n\"]\n",
    "    while i<plateau[\"n\"]:\n",
    "        lig=\"\"\n",
    "        while y<taillef and taillef<=plateau[\"n\"]**2:\n",
    "            lig+= str(plateau[\"tiles\"][y]) + esp\n",
    "            y+=1\n",
    "        print(lig)\n",
    "        taillef+=plateau[\"n\"]\n",
    "        i+=1\n",
    "\n",
    "\n",
    "p=init_play()\n",
    "p1={\n",
    "        \"n\" : 4,\n",
    "        \"nb_cases_libres\" : 16,\n",
    "        \"tiles\" : [6, 2, 3, 2, 0, 2, 6, 2, 0, 2, 2, 0, 1, 0, 0, 0]\n",
    "    }\n",
    "print(p1[\"tiles\"])\n",
    "print()\n",
    "simple_display(p1)"
   ]
  },
  {
   "cell_type": "code",
   "execution_count": 11,
   "metadata": {},
   "outputs": [
    {
     "name": "stdout",
     "output_type": "stream",
     "text": [
      "[6, 2, 3, 2, 0, 2, 6, 2, 0, 2, 2, 0, 1, 0, 0, 0]\n",
      "\n",
      "**********************\n",
      "*  6  * 2  * 3  * 2  * \n",
      "**********************\n",
      "*  0  * 2  * 6  * 2  * \n",
      "**********************\n",
      "*  0  * 2  * 2  * 0  * \n",
      "**********************\n",
      "*  1  * 0  * 0  * 0  * \n",
      "**********************\n"
     ]
    }
   ],
   "source": [
    "def medium_display(plateau):\n",
    "    \"\"\"Affichage du plateau avec délimitations textuelles des cases\"\"\"\n",
    "    esp=\"  \"\n",
    "    sep=\"* \"\n",
    "    print(22*\"*\")\n",
    "    taillef=plateau[\"n\"]\n",
    "    y=0\n",
    "    i=0\n",
    "    while i<plateau[\"n\"]:\n",
    "        lig=\"*  \"\n",
    "        while y<taillef and taillef<=plateau[\"n\"]**2:\n",
    "            lig+= str(plateau[\"tiles\"][y]) + esp + sep\n",
    "            y+=1\n",
    "        print(lig)\n",
    "        print(22*\"*\")\n",
    "        taillef+=plateau[\"n\"]\n",
    "        i+=1\n",
    "    \n",
    "print(p1[\"tiles\"])\n",
    "print()\n",
    "medium_display(p1)"
   ]
  },
  {
   "cell_type": "code",
   "execution_count": 12,
   "metadata": {},
   "outputs": [
    {
     "name": "stdout",
     "output_type": "stream",
     "text": [
      "{'mode': 'init', 't0': {'val': 1, 'lig': 2, 'col': 1}, 't1': {'val': 2, 'lig': 2, 'col': 1}, 'check': True}\n",
      "{'mode': 'encours', 't0': {'val': 3, 'lig': 3, 'col': 3}, 'check': True}\n"
     ]
    }
   ],
   "source": [
    "from random import*\n",
    "def get_next_alea_tiles(plateau, mode):\n",
    "    if mode != \"init\" and mode != \"encours\":#vérifie que le mode est valide\n",
    "        return \"Le mode saisie n'est pas valide\"\n",
    "    \n",
    "    if is_game_over(p)==False:#vérifie si la partie est terminé ou non\n",
    "        end=True\n",
    "    else:\n",
    "        end=False\n",
    "    dico_mode={}\n",
    "    if mode ==\"init\":#mode init retourne un dico qui contient 2 tuiles\n",
    "        dico_mode={\"mode\":\"init\",\n",
    "                   \"t0\" : {\"val\": 1,\n",
    "                               \"lig\": randint(0, p[\"n\"]-1),\n",
    "                               \"col\": randint(0, p[\"n\"]-1)},\n",
    "                   \"t1\" : {\"val\": 2,\n",
    "                               \"lig\": randint(0, p[\"n\"]-1),\n",
    "                               \"col\": randint(0, p[\"n\"]-1)},\n",
    "                   \"check\" : end\n",
    "                  }\n",
    "        return dico_mode\n",
    "    \n",
    "    lig=randint(0, p[\"n\"]-1)\n",
    "    col=randint(0, p[\"n\"]-1)\n",
    "    val=randint(1, 3)\n",
    "    if mode == \"encours\" and is_room_empty(plateau, lig, col)==True:#mode encours retourne un dico à 1 tuile\n",
    "        dico_mode={\"mode\":\"encours\",\n",
    "                   \"t0\" : {\"val\": val,\n",
    "                               \"lig\": lig,\n",
    "                               \"col\": col},\n",
    "                   \"check\" : end\n",
    "                  }\n",
    "    return dico_mode\n",
    "    \n",
    "\n",
    "p=init_play()\n",
    "print(get_next_alea_tiles(p, \"init\"))\n",
    "print(get_next_alea_tiles(p, \"encours\"))"
   ]
  },
  {
   "cell_type": "code",
   "execution_count": 13,
   "metadata": {},
   "outputs": [
    {
     "name": "stdout",
     "output_type": "stream",
     "text": [
      "{'mode': 'init', 't0': {'val': 1, 'lig': 3, 'col': 3}, 't1': {'val': 2, 'lig': 2, 'col': 3}, 'check': True}\n",
      "{'n': 4, 'nb_cases_libres': 16, 'tiles': [0, 0, 0, 0, 0, 0, 0, 0, 0, 0, 0, 2, 0, 0, 0, 1]}\n",
      "0  0  0  0  \n",
      "0  0  0  0  \n",
      "0  0  0  2  \n",
      "0  0  0  1  \n",
      "\n",
      "{'mode': 'encours', 't0': {'val': 2, 'lig': 1, 'col': 0}, 'check': True}\n",
      "{'n': 4, 'nb_cases_libres': 16, 'tiles': [0, 0, 0, 0, 2, 0, 0, 0, 0, 0, 0, 0, 0, 0, 0, 0]}\n",
      "0  0  0  0  \n",
      "2  0  0  0  \n",
      "0  0  0  0  \n",
      "0  0  0  0  \n"
     ]
    }
   ],
   "source": [
    "def put_next_tiles(plateau, tiles):\n",
    "    \"\"\"p=plateau t=dico_de_get_next_alea_tiles place 1/2 tuiles dans le plateau en fonction du mode choisi\"\"\"\n",
    "    val0=tiles[\"t0\"][\"val\"]\n",
    "    lig0=tiles[\"t0\"][\"lig\"]\n",
    "    col0=tiles[\"t0\"][\"col\"]\n",
    "    if is_room_empty(plateau, lig0, col0)==True:\n",
    "        set_value(plateau, lig0, col0, val0)\n",
    "    if tiles[\"mode\"]==\"init\":\n",
    "        val1=tiles[\"t1\"][\"val\"]\n",
    "        lig1=tiles[\"t1\"][\"lig\"]\n",
    "        col1=tiles[\"t1\"][\"col\"]\n",
    "    if tiles[\"mode\"]==\"init\" and is_room_empty(plateau, lig1, col1)==True:\n",
    "        set_value(plateau, lig1, col1, val1)\n",
    "    return plateau\n",
    "    \n",
    "p1=init_play()\n",
    "t1=get_next_alea_tiles(p1, \"init\")\n",
    "newp1=put_next_tiles(p1, t1)\n",
    "print(t1)\n",
    "print(newp1)\n",
    "simple_display(newp1)\n",
    "\n",
    "print()\n",
    "p2=init_play()\n",
    "t2=get_next_alea_tiles(p2, \"encours\")\n",
    "newp2=put_next_tiles(p2, t2)\n",
    "print(t2)\n",
    "print(newp2)\n",
    "simple_display(p2)"
   ]
  },
  {
   "cell_type": "code",
   "execution_count": 14,
   "metadata": {},
   "outputs": [
    {
     "name": "stdout",
     "output_type": "stream",
     "text": [
      "0  2  0  0  \n",
      "0  2  3  3  \n",
      "0  2  2  0  \n",
      "0  0  0  0  \n",
      "\n",
      "0  2  0  0  \n",
      "2  3  3  0  \n",
      "0  2  2  0  \n",
      "0  0  0  0  \n",
      "\n",
      "0  2  0  0  \n",
      "2  3  0  0  \n",
      "0  2  2  0  \n",
      "0  0  0  0  \n",
      "\n",
      "0  2  0  0  \n",
      "0  2  3  0  \n",
      "0  2  2  0  \n",
      "0  0  0  0  \n",
      "\n",
      "0  2  0  0  \n",
      "0  0  2  0  \n",
      "0  2  2  0  \n",
      "0  0  0  0  \n"
     ]
    }
   ],
   "source": [
    "def line_pack(plateau, num_lig, debut, sens):\n",
    "    y=num_lig*plateau[\"n\"]+debut\n",
    "    j=debut\n",
    "    if sens==1:\n",
    "        while j<plateau[\"n\"]-1:\n",
    "            plateau[\"tiles\"][y]=plateau[\"tiles\"][y+1]\n",
    "            y+=1\n",
    "            j+=1\n",
    "    else:\n",
    "        while j>0:\n",
    "            plateau[\"tiles\"][y]=plateau[\"tiles\"][y-1]\n",
    "            y-=1\n",
    "            j-=1\n",
    "    plateau[\"tiles\"][y]=0\n",
    "    return plateau\n",
    "\n",
    "\n",
    "pline={\n",
    "    \"n\" : 4,\n",
    "    \"nombres_cases_libres\" : 6,\n",
    "    \"tiles\" : [0, 2, 0, 0, 0, 2, 3, 3, 0, 2, 2, 0, 0, 0, 0, 0]\n",
    "}\n",
    "simple_display(pline)\n",
    "print()\n",
    "newpline=line_pack(pline, 1, 0, 1)\n",
    "simple_display(newpline)\n",
    "print()\n",
    "newpline=line_pack(pline, 1, 2, 1)\n",
    "simple_display(newpline)\n",
    "print()\n",
    "newpline=line_pack(pline, 1, 3, 0)\n",
    "simple_display(newpline)\n",
    "print()\n",
    "newpline=line_pack(pline, 1, 2, 0)\n",
    "simple_display(newpline)"
   ]
  },
  {
   "cell_type": "code",
   "execution_count": 15,
   "metadata": {},
   "outputs": [
    {
     "name": "stdout",
     "output_type": "stream",
     "text": [
      "0  2  0  0  \n",
      "0  2  3  0  \n",
      "0  2  2  0  \n",
      "0  0  0  0  \n",
      "\n",
      "0  2  0  0  \n",
      "0  2  3  0  \n",
      "0  0  2  0  \n",
      "0  0  0  0  \n",
      "\n",
      "0  0  0  0  \n",
      "0  2  3  0  \n",
      "0  0  2  0  \n",
      "0  0  0  0  \n"
     ]
    }
   ],
   "source": [
    "def column_pack(plateau, num_col, debut, sens):\n",
    "    y=plateau[\"n\"]*debut+num_col\n",
    "    j=debut\n",
    "    if sens==1:\n",
    "        while j<plateau[\"n\"]-1:\n",
    "            plateau[\"tiles\"][y]=plateau[\"tiles\"][y+plateau[\"n\"]]\n",
    "            y+=plateau[\"n\"]\n",
    "            j+=1\n",
    "    else:\n",
    "        while j>0:\n",
    "            plateau[\"tiles\"][y]=plateau[\"tiles\"][y-plateau[\"n\"]]\n",
    "            y-=plateau[\"n\"]\n",
    "            j-=1\n",
    "    plateau[\"tiles\"][y]=0\n",
    "    return plateau\n",
    "\n",
    "\n",
    "pline={\n",
    "    \"n\" : 4,\n",
    "    \"nombres_cases_libres\" : 6,\n",
    "    \"tiles\" : [0, 2, 0, 0, 0, 2, 3, 0, 0, 2, 2, 0, 0, 0, 0, 0]\n",
    "}\n",
    "simple_display(pline)\n",
    "print()\n",
    "dico=column_pack(pline, 1, 2, 1)\n",
    "simple_display(dico)\n",
    "print()\n",
    "dico=column_pack(pline, 1, 1, 0)\n",
    "simple_display(dico)"
   ]
  },
  {
   "cell_type": "code",
   "execution_count": 16,
   "metadata": {},
   "outputs": [
    {
     "name": "stdout",
     "output_type": "stream",
     "text": [
      "0  2  0  0  \n",
      "0  2  3  3  \n",
      "2  2  2  2  \n",
      "0  0  0  0  \n",
      "\n",
      "0  2  0  0  \n",
      "2  3  3  0  \n",
      "2  2  2  2  \n",
      "0  0  0  0  \n",
      "\n",
      "0  2  0  0  \n",
      "2  6  0  0  \n",
      "2  2  2  2  \n",
      "0  0  0  0  \n",
      "\n",
      "0  2  0  0  \n",
      "2  6  0  0  \n",
      "0  0  4  4  \n",
      "0  0  0  0  \n",
      "\n",
      "0  2  0  0  \n",
      "2  6  0  0  \n",
      "0  0  0  8  \n",
      "0  0  0  0  \n"
     ]
    }
   ],
   "source": [
    "def line_move(plateau, num_lig, sens):\n",
    "    if sens==1:\n",
    "        y=num_lig*plateau[\"n\"]\n",
    "        i=0\n",
    "        while plateau[\"tiles\"][y] == 0:\n",
    "            plateau=line_pack(plateau, num_lig, 0, sens)\n",
    "            i+=1\n",
    "            return plateau\n",
    "        j=0\n",
    "        while j<3:\n",
    "            if plateau[\"tiles\"][y]==plateau[\"tiles\"][y+1]:\n",
    "                plateau[\"tiles\"][y]=plateau[\"tiles\"][y]*2\n",
    "                plateau=line_pack(plateau, num_lig, j+1, sens)\n",
    "            y+=1\n",
    "            j+=1          \n",
    "    else:\n",
    "        y=(num_lig*plateau[\"n\"])+(plateau[\"n\"]-1)\n",
    "        i=0\n",
    "        while plateau[\"tiles\"][y] == 0:\n",
    "            plateau=line_pack(plateau, num_lig, plateau[\"n\"]-1, sens)\n",
    "            i+=1\n",
    "            return plateau\n",
    "        j=3\n",
    "        while j>0:\n",
    "            if plateau[\"tiles\"][y]==plateau[\"tiles\"][y-1]:\n",
    "                plateau[\"tiles\"][y]=plateau[\"tiles\"][y]*2\n",
    "                plateau=line_pack(plateau, num_lig, j-1, sens)\n",
    "            y-=1\n",
    "            j-=1               \n",
    "    return plateau\n",
    "      \n",
    "    \n",
    "p={\n",
    "    \"n\" : 4,\n",
    "    \"nombres_cases_libres\" : 6,\n",
    "    \"tiles\" : [0, 2, 0, 0, 0, 2, 3, 3, 2, 2, 2, 2, 0, 0, 0, 0]\n",
    "}   \n",
    "simple_display(p)\n",
    "print()\n",
    "p=line_move(p, 1, 1)\n",
    "simple_display(p)\n",
    "print()\n",
    "p=line_move(p, 1, 1)\n",
    "simple_display(p)\n",
    "print()\n",
    "p=line_move(p, 2, 0)\n",
    "simple_display(p)\n",
    "print()\n",
    "p=line_move(p, 2, 0)\n",
    "simple_display(p)\n"
   ]
  },
  {
   "cell_type": "code",
   "execution_count": 17,
   "metadata": {},
   "outputs": [
    {
     "name": "stdout",
     "output_type": "stream",
     "text": [
      "0  4  0  0  \n",
      "0  6  3  3  \n",
      "0  2  3  0  \n",
      "0  2  0  0  \n",
      "\n",
      "0  4  0  0  \n",
      "0  6  3  3  \n",
      "0  4  3  0  \n",
      "0  0  0  0  \n",
      "\n",
      "0  4  0  0  \n",
      "0  6  0  3  \n",
      "0  4  3  0  \n",
      "0  0  3  0  \n",
      "\n",
      "0  4  0  0  \n",
      "0  6  0  3  \n",
      "0  4  0  0  \n",
      "0  0  6  0  \n"
     ]
    }
   ],
   "source": [
    "def column_move(plateau, num_col, sens):\n",
    "    if sens==1:\n",
    "        y=num_col       \n",
    "        while plateau[\"tiles\"][y] == 0:\n",
    "            plateau=column_pack(plateau, num_col, 0, sens)\n",
    "            return plateau\n",
    "        j=0\n",
    "        while j<3:\n",
    "            if plateau[\"tiles\"][y]==plateau[\"tiles\"][y+plateau[\"n\"]]:\n",
    "                plateau[\"tiles\"][y]=plateau[\"tiles\"][y]*2\n",
    "                plateau=column_pack(plateau, num_col, j+1, sens)\n",
    "            y+=plateau[\"n\"]\n",
    "            j+=1          \n",
    "    else:\n",
    "        y=(num_col)+(plateau[\"n\"]*(plateau[\"n\"]-1))       \n",
    "        while plateau[\"tiles\"][y] == 0:\n",
    "            plateau=column_pack(plateau, num_col, plateau[\"n\"]-1, sens)\n",
    "            return plateau\n",
    "        j=3\n",
    "        while j>0:\n",
    "            if plateau[\"tiles\"][y]==plateau[\"tiles\"][y-plateau[\"n\"]]:\n",
    "                plateau[\"tiles\"][y]=plateau[\"tiles\"][y]*2\n",
    "                plateau=column_pack(plateau, num_col, j-1, sens)\n",
    "            y-=plateau[\"n\"]\n",
    "            j-=1        \n",
    "    return plateau\n",
    "      \n",
    "    \n",
    "p={\n",
    "    \"n\" : 4,\n",
    "    \"nombres_cases_libres\" : 6,\n",
    "    \"tiles\" : [0, 4, 0, 0, 0, 6, 3, 3, 0, 2, 3, 0, 0, 2, 0, 0]\n",
    "}   \n",
    "simple_display(p)\n",
    "print()\n",
    "p=column_move(p, 1, 1)\n",
    "simple_display(p)\n",
    "print()\n",
    "p=column_move(p, 2, 0)\n",
    "simple_display(p)\n",
    "print()\n",
    "p=column_move(p, 2, 0)\n",
    "simple_display(p)"
   ]
  },
  {
   "cell_type": "code",
   "execution_count": 18,
   "metadata": {},
   "outputs": [
    {
     "name": "stdout",
     "output_type": "stream",
     "text": [
      "1  2  3  4  \n",
      "1  1  2  3  \n",
      "1  2  2  3  \n",
      "1  2  3  3  \n",
      "\n",
      "1  2  3  4  \n",
      "0  2  2  3  \n",
      "0  1  4  3  \n",
      "0  1  2  6  \n",
      "\n",
      "1  2  3  4  \n",
      "2  2  3  0  \n",
      "1  4  3  0  \n",
      "1  2  6  0  \n",
      "\n",
      "1  2  3  4  \n",
      "4  3  0  0  \n",
      "1  4  3  0  \n",
      "1  2  6  0  \n"
     ]
    }
   ],
   "source": [
    "def lines_move(plateau, sens):\n",
    "    i=0\n",
    "    while i<plateau[\"n\"]:\n",
    "        plateau=line_move(plateau, i, sens)\n",
    "        i+=1\n",
    "    return plateau\n",
    "\n",
    "p={\n",
    "    \"n\" : 4,\n",
    "    \"nombres_cases_libres\" : 6,\n",
    "    \"tiles\" : [1, 2, 3, 4, 1, 1, 2, 3, 1, 2, 2, 3, 1, 2, 3, 3]\n",
    "}   \n",
    "simple_display(p)\n",
    "print()\n",
    "p=lines_move(p, 0)\n",
    "simple_display(p)\n",
    "print()\n",
    "p=lines_move(p, 1)\n",
    "simple_display(p)\n",
    "print()\n",
    "p=lines_move(p, 1)\n",
    "simple_display(p)"
   ]
  },
  {
   "cell_type": "code",
   "execution_count": null,
   "metadata": {},
   "outputs": [
    {
     "name": "stdout",
     "output_type": "stream",
     "text": [
      "1  1  1  1  \n",
      "2  1  2  2  \n",
      "3  2  2  3  \n",
      "4  3  3  3  \n",
      "\n",
      "1  2  1  1  \n",
      "2  2  4  2  \n",
      "3  3  3  6  \n",
      "4  0  0  0  \n",
      "\n",
      "1  0  0  0  \n",
      "2  2  1  1  \n",
      "3  2  4  2  \n",
      "4  3  3  6  \n",
      "\n",
      "1  0  0  0  \n",
      "2  0  1  1  \n",
      "3  4  4  2  \n",
      "4  3  3  6  \n"
     ]
    }
   ],
   "source": [
    "def columns_move(plateau, sens):\n",
    "    i=0\n",
    "    while i<plateau[\"n\"]:\n",
    "        plateau=column_move(plateau, i, sens)\n",
    "        i+=1\n",
    "    return plateau\n",
    "\n",
    "p={\n",
    "    \"n\" : 4,\n",
    "    \"nombres_cases_libres\" : 6,\n",
    "    \"tiles\" : [1, 1, 1, 1, 2, 1, 2, 2, 3, 2, 2, 3, 4, 3, 3, 3]\n",
    "}   \n",
    "simple_display(p)\n",
    "print()\n",
    "p=columns_move(p, 1)\n",
    "simple_display(p)\n",
    "print()\n",
    "p=columns_move(p, 0)\n",
    "simple_display(p)\n",
    "print()\n",
    "p=columns_move(p, 0)\n",
    "simple_display(p)"
   ]
  },
  {
   "cell_type": "code",
   "execution_count": null,
   "metadata": {},
   "outputs": [
    {
     "name": "stdout",
     "output_type": "stream",
     "text": [
      "1  1  1  1  \n",
      "2  1  2  2  \n",
      "3  2  2  3  \n",
      "4  3  3  3  \n",
      "\n",
      "1  2  1  1  \n",
      "2  2  4  2  \n",
      "3  3  3  6  \n",
      "4  0  0  0  \n"
     ]
    }
   ],
   "source": [
    "def play_move(plateau, sens):\n",
    "    if sens==\"g\":\n",
    "        plateau=lines_move(plateau,1)\n",
    "    elif sens==\"d\":\n",
    "        plateau=lines_move(plateau,0)\n",
    "    elif sens==\"h\":\n",
    "        plateau=columns_move(plateau,1)\n",
    "    elif sens==\"b\":\n",
    "        plateau=columns_move(plateau,0)\n",
    "    return plateau\n",
    "        \n",
    "p={\n",
    "    \"n\" : 4,\n",
    "    \"nombres_cases_libres\" : 6,\n",
    "    \"tiles\" : [1, 1, 1, 1, 2, 1, 2, 2, 3, 2, 2, 3, 4, 3, 3, 3]\n",
    "}   \n",
    "simple_display(p)\n",
    "print()\n",
    "p=play_move(p, \"h\")\n",
    "simple_display(p)"
   ]
  },
  {
   "cell_type": "code",
   "execution_count": null,
   "metadata": {},
   "outputs": [
    {
     "name": "stdout",
     "output_type": "stream",
     "text": [
      "{'plateau': {'n': 4, 'nb_cases_libres': 14, 'tiles': [0, 0, 0, 1, 0, 0, 0, 0, 0, 0, 2, 0, 0, 0, 0, 0]}, 'next_tile': {'mode': 'encours', 't0': {'val': 1, 'lig': 0, 'col': 1}, 'check': True}, 'score': 3}\n"
     ]
    }
   ],
   "source": [
    "def create_new_play(n):\n",
    "    p=init_play()\n",
    "    initialisation=get_next_alea_tiles(p,\"init\")\n",
    "    put_next_tiles(p,initialisation)\n",
    "    get_nb_empty_rooms(p)\n",
    "    score=get_score(p)\n",
    "    next_tile=get_next_alea_tiles(p,\"encours\")\n",
    "    partie={}\n",
    "    partie[\"plateau\"]=p\n",
    "    partie[\"next_tile\"]=next_tile\n",
    "    partie[\"score\"]=score\n",
    "    \n",
    "    return partie\n",
    "partie1=create_new_play(1)\n",
    "print (partie1)\n"
   ]
  },
  {
   "cell_type": "code",
   "execution_count": null,
   "metadata": {},
   "outputs": [
    {
     "name": "stdout",
     "output_type": "stream",
     "text": [
      "\n",
      " Saisissez : h pour haut \n",
      " b pour bas \n",
      " g pour gauche \n",
      " d pour droite \n",
      " m pour accéder au menu \n",
      " m\n"
     ]
    },
    {
     "data": {
      "text/plain": [
       "'m'"
      ]
     },
     "execution_count": 22,
     "metadata": {},
     "output_type": "execute_result"
    }
   ],
   "source": [
    "def get_user_move():\n",
    "    move=0\n",
    "    while move!=\"g\" and move!=\"d\" and move !=\"h\" and move!=\"b\" and move!=\"m\" :\n",
    "        move=str(input(\"\\n Saisissez : h pour haut \\n b pour bas \\n g pour gauche \\n d pour droite \\n m pour accéder au menu \\n \"))\n",
    "        move=move.lower()\n",
    "    return move\n",
    "\n",
    "get_user_move()"
   ]
  },
  {
   "cell_type": "code",
   "execution_count": null,
   "metadata": {},
   "outputs": [
    {
     "name": "stdout",
     "output_type": "stream",
     "text": [
      "**********************\n",
      "*  2  * 0  * 0  * 0  * \n",
      "**********************\n",
      "*  0  * 0  * 0  * 0  * \n",
      "**********************\n",
      "*  0  * 1  * 0  * 0  * \n",
      "**********************\n",
      "*  0  * 0  * 0  * 0  * \n",
      "**********************\n",
      "\n",
      " Prochaine tuile : 2\n",
      "\n",
      " Saisissez : h pour haut \n",
      " b pour bas \n",
      " g pour gauche \n",
      " d pour droite \n",
      " m pour accéder au menu \n",
      " h\n",
      "**********************\n",
      "*  2  * 0  * 0  * 0  * \n",
      "**********************\n",
      "*  0  * 1  * 0  * 0  * \n",
      "**********************\n",
      "*  0  * 2  * 0  * 0  * \n",
      "**********************\n",
      "*  0  * 0  * 0  * 0  * \n",
      "**********************\n",
      "\n",
      " Prochaine tuile : 2\n",
      "\n",
      " Saisissez : h pour haut \n",
      " b pour bas \n",
      " g pour gauche \n",
      " d pour droite \n",
      " m pour accéder au menu \n",
      " m\n"
     ]
    },
    {
     "data": {
      "text/plain": [
       "False"
      ]
     },
     "execution_count": 23,
     "metadata": {},
     "output_type": "execute_result"
    }
   ],
   "source": [
    "def cycle_play(partie):\n",
    "    if partie is None:\n",
    "        partie=create_new_play(1)\n",
    "        \n",
    "    while is_game_over(partie[\"plateau\"])==False:\n",
    "        medium_display(partie[\"plateau\"])\n",
    "        next_tile=partie[\"next_tile\"][\"t0\"][\"val\"]\n",
    "        print(\"\\n Prochaine tuile : \" + str(next_tile))\n",
    "        mouvement=get_user_move()\n",
    "        if mouvement == \"m\":\n",
    "            return False\n",
    "        else:\n",
    "            partie[\"plateau\"]=play_move(partie[\"plateau\"], mouvement)\n",
    "            partie[\"next_tile\"]=get_next_alea_tiles(partie[\"plateau\"], \"encours\")\n",
    "            partie[\"next_tile\"][\"t0\"][\"val\"]=next_tile\n",
    "            put_next_tiles(partie[\"plateau\"], partie[\"next_tile\"])\n",
    "            partie['next_tile']=get_next_alea_tiles(partie['plateau'],'encours') #On intègre la tuile dans le plateau\n",
    "            partie['score']=get_score(partie['plateau'])\n",
    "    return True\n",
    "\n",
    "partie=None\n",
    "cycle_play(partie)"
   ]
  },
  {
   "cell_type": "code",
   "execution_count": null,
   "metadata": {},
   "outputs": [],
   "source": [
    "def get_user_menu(partie):\n",
    "    choix=\"\"\n",
    "    if partie != None:\n",
    "        while choix != \"N\" and choix != \"L\" and choix != \"S\" and choix != \"C\" and choix != \"Q\":\n",
    "            choix=str(input(\"Saisissez : \\n N pour une Nouvelle partie \\n L pour Charger une partie \\n S pour Sauvegarder la partie en cours \\n C pour Reprendre une partie en cours \\n Q pour Terminer le jeu \\n\"))\n",
    "            choix=choix.upper()\n",
    "    else:\n",
    "        while choix != \"N\" and choix != \"L\" and choix != \"Q\":\n",
    "            choix=str(input(\"Saisissez : \\n N pour une Nouvelle partie \\n L pour Charger une partie \\n Q pour Terminer le jeu \\n\"))\n",
    "            choix=choix.upper()\n",
    "    return choix\n",
    "\n",
    "get_user_menu(partie)"
   ]
  },
  {
   "cell_type": "code",
   "execution_count": null,
   "metadata": {},
   "outputs": [],
   "source": [
    "import json\n",
    "def save_game(partie):\n",
    "    fichier = open (\"./game_saved.json\",\"w\")\n",
    "    partie_json=json.dumps(partie)\n",
    "    json.dump(partie, fichier)\n",
    "    fichier.close()\n",
    "    \n",
    "partie={\n",
    "    \"plateau\" : {\n",
    "        \"n\" : 4,\n",
    "        \"nombre_cases_libres\" : 6,\n",
    "        \"tiles\" : [6, 2, 3, 2, 0, 2, 1, 2, 6, 2, 0, 0, 0, 6, 1, 1]\n",
    "    },\n",
    "    \"next_tile\" : {\n",
    "        \"mode\" : \"encours\",\n",
    "        \"0\" : {\n",
    "            \"val\" : 3,\n",
    "            \"lig\" : 0,\n",
    "            \"col\" : 1\n",
    "        },\n",
    "        \"check\" : True\n",
    "    },\n",
    "    \"score\" : 34\n",
    "}   \n",
    "save_game(partie1)"
   ]
  },
  {
   "cell_type": "code",
   "execution_count": null,
   "metadata": {},
   "outputs": [],
   "source": [
    "def restore_game():\n",
    "    fichier = open(\"./game_saved.json\", \"rt\")\n",
    "    partie_json=fichier.read()\n",
    "    fichier.close()\n",
    "    partie=json.loads(partie_json)\n",
    "    if partie == None:\n",
    "        partie=create_new_play(1)\n",
    "        return partie\n",
    "    else:\n",
    "        return partie\n",
    "\n",
    "restore_game()"
   ]
  },
  {
   "cell_type": "code",
   "execution_count": null,
   "metadata": {},
   "outputs": [],
   "source": [
    "def threes():\n",
    "    action=get_user_menu(None)\n",
    "    \n",
    "    while action!=\"Q\":\n",
    "        \n",
    "        if action=='N':\n",
    "            partie=create_new_play(1)\n",
    "        elif action=='L':\n",
    "            partie=restore_game()\n",
    "            \n",
    "        play=cycle_play(partie)\n",
    "    \n",
    "        if not play:\n",
    "            action=get_user_menu(partie)\n",
    "            if action==\"Q\":\n",
    "                return \"A Bientôt\"\n",
    "            elif action=='N':\n",
    "                partie=create_new_play(1)\n",
    "            elif action=='L':\n",
    "                partie=restore_game()\n",
    "            elif action==\"S\":\n",
    "                partie=save_game(partie)\n",
    "            elif action==\"C\":\n",
    "                partie=cycle_play(partie)\n",
    "        else:\n",
    "            full_display(partie['plateau'])\n",
    "            print(\"Partie Terminée ! Score final : \"+str(partie['score']))\n",
    "        \n",
    "        action=get_user_menu(partie)\n",
    "    return \"A Bientôt\"\n",
    "\n",
    "threes()"
   ]
  }
 ],
 "metadata": {
  "kernelspec": {
   "display_name": "Python 3",
   "language": "python",
   "name": "python3"
  },
  "language_info": {
   "codemirror_mode": {
    "name": "ipython",
    "version": 3
   },
   "file_extension": ".py",
   "mimetype": "text/x-python",
   "name": "python",
   "nbconvert_exporter": "python",
   "pygments_lexer": "ipython3",
   "version": "3.7.4"
  }
 },
 "nbformat": 4,
 "nbformat_minor": 4
}
